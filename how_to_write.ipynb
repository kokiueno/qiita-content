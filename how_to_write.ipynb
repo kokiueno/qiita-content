{
 "cells": [
  {
   "cell_type": "code",
   "execution_count": 1,
   "metadata": {},
   "outputs": [
    {
     "name": "stdout",
     "output_type": "stream",
     "text": [
      "Hello World\n"
     ]
    }
   ],
   "source": [
    "def greeting(name: str) -> str: # type hinting\n",
    "    return 'Hello ' + name\n",
    "\n",
    "print(greeting('World'))"
   ]
  },
  {
   "cell_type": "code",
   "execution_count": 4,
   "metadata": {},
   "outputs": [
    {
     "name": "stdout",
     "output_type": "stream",
     "text": [
      "print(value, ..., sep=' ', end='\\n', file=sys.stdout, flush=False)\n",
      "\n",
      "Prints the values to a stream, or to sys.stdout by default.\n",
      "Optional keyword arguments:\n",
      "file:  a file-like object (stream); defaults to the current sys.stdout.\n",
      "sep:   string inserted between values, default a space.\n",
      "end:   string appended after the last value, default a newline.\n",
      "flush: whether to forcibly flush the stream.\n"
     ]
    }
   ],
   "source": [
    "print(print.__doc__)"
   ]
  },
  {
   "cell_type": "markdown",
   "metadata": {},
   "source": [
    "https://qiita.com/11ohina017/items/118b3b42b612e527dc1d"
   ]
  },
  {
   "cell_type": "code",
   "execution_count": null,
   "metadata": {},
   "outputs": [],
   "source": [
    "#!/usr/bin/python\n",
    "# -*- coding: utf-8 -*-\n",
    "\"\"\"モジュールの説明タイトル\n",
    "\n",
    "* ソースコードの一番始めに記載すること\n",
    "* importより前に記載する\n",
    "\n",
    "Todo:\n",
    "    TODOリストを記載\n",
    "    * conf.pyの``sphinx.ext.todo`` を有効にしないと使用できない\n",
    "    * conf.pyの``todo_include_todos = True``にしないと表示されない\n",
    "\n",
    "\"\"\"\n",
    "\n",
    "import json\n",
    "import inspect\n",
    "\n",
    "class testClass() :\n",
    "    \"\"\"クラスの説明タイトル\n",
    "\n",
    "    クラスについての説明文\n",
    "\n",
    "    Attributes:\n",
    "        属性の名前 (属性の型): 属性の説明\n",
    "        属性の名前 (:obj:`属性の型`): 属性の説明.\n",
    "\n",
    "    \"\"\"\n",
    "\n",
    "    def print_test(self, param1, param2) :\n",
    "        \"\"\"関数の説明タイトル\n",
    "\n",
    "        関数についての説明文\n",
    "\n",
    "        Args:\n",
    "            引数の名前 (引数の型): 引数の説明\n",
    "            引数の名前 (:obj:`引数の型`, optional): 引数の説明.\n",
    "\n",
    "        Returns:\n",
    "            戻り値の型: 戻り値の説明 (例 : True なら成功, False なら失敗.)\n",
    "\n",
    "        Raises:\n",
    "            例外の名前: 例外の説明 (例 : 引数が指定されていない場合に発生 )\n",
    "\n",
    "        Yields:\n",
    "            戻り値の型: 戻り値についての説明\n",
    "\n",
    "        Examples:\n",
    "\n",
    "            関数の使い方について記載\n",
    "\n",
    "            >>> print_test (\"test\", \"message\")\n",
    "               test message\n",
    "\n",
    "        Note:\n",
    "            注意事項などを記載\n",
    "\n",
    "        \"\"\"\n",
    "        print(\"%s %s\" % (param1, param2) )\n",
    "\n",
    "if __name__ == '__main__':\n",
    "\n",
    "    test_object = testClass()\n",
    "    test_object.print_test(\"test\", \"message\")\n"
   ]
  },
  {
   "cell_type": "markdown",
   "metadata": {},
   "source": [
    "https://qiita.com/ren094275/items/5d42f7c6be8c5d3cd014"
   ]
  },
  {
   "cell_type": "markdown",
   "metadata": {},
   "source": [
    "#自作関数のインポート\n",
    "\n",
    "from ディレクトリ名 import モジュール名"
   ]
  },
  {
   "cell_type": "code",
   "execution_count": 1,
   "metadata": {},
   "outputs": [],
   "source": [
    "# my_function.py\n",
    "\n",
    "# 2つの変数の和を計算する自作関数\n",
    "def my_sum(x,y):\n",
    "    z = x + y\n",
    "    return z\n",
    "\n",
    "# 2つの変数の差を計算する自作関数\n",
    "def my_dif(x,y):\n",
    "    z = x - y\n",
    "    return z"
   ]
  },
  {
   "cell_type": "code",
   "execution_count": null,
   "metadata": {},
   "outputs": [],
   "source": [
    "#自作関数のインポート\n",
    "'''\n",
    "from my_module import my_function\n",
    "\n",
    "if __name__ == '__main__':\n",
    "    a = my_function.my_sum(2,1)\n",
    "    b = my_function.my_dif(2,1)\n",
    "    print(a)\n",
    "    print(b)\n",
    "'''"
   ]
  },
  {
   "cell_type": "markdown",
   "metadata": {},
   "source": [
    "ソフトコーディングを意識する\n",
    "\n",
    "ハードコーディング × -> 直接数値を代入"
   ]
  },
  {
   "cell_type": "code",
   "execution_count": null,
   "metadata": {},
   "outputs": [],
   "source": [
    "tax_rate = 1.08\n",
    "price = int(input(\"価格を入力してください：\"))\n",
    "including_tax_amount = price*tax_rate"
   ]
  },
  {
   "cell_type": "markdown",
   "metadata": {},
   "source": [
    "Pythonコードのテストを行う上で有用な機能が実装された一群のモジュール\n",
    "\n",
    "https://www.python.ambitious-engineer.com/archives/828"
   ]
  },
  {
   "cell_type": "code",
   "execution_count": 2,
   "metadata": {},
   "outputs": [],
   "source": [
    "import unittest"
   ]
  },
  {
   "cell_type": "markdown",
   "metadata": {},
   "source": [
    "AWS\n",
    "\n",
    "https://qiita.com/kohashi/items/1bb952313fb695f12577\n",
    "\n",
    "https://qiita.com/ren0826jam/items/f2a2575a1053e568b4de"
   ]
  },
  {
   "cell_type": "code",
   "execution_count": null,
   "metadata": {},
   "outputs": [],
   "source": []
  }
 ],
 "metadata": {
  "kernelspec": {
   "display_name": "Python 3",
   "language": "python",
   "name": "python3"
  },
  "language_info": {
   "codemirror_mode": {
    "name": "ipython",
    "version": 3
   },
   "file_extension": ".py",
   "mimetype": "text/x-python",
   "name": "python",
   "nbconvert_exporter": "python",
   "pygments_lexer": "ipython3",
   "version": "3.10.11"
  }
 },
 "nbformat": 4,
 "nbformat_minor": 2
}
